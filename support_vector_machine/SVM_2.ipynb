{
 "cells": [
  {
   "cell_type": "code",
   "execution_count": 58,
   "id": "aee4dcf2-ac1a-49bc-b6fc-9ea6b597e839",
   "metadata": {},
   "outputs": [],
   "source": [
    "import numpy as np\n",
    "import matplotlib.pyplot as plt\n",
    "import seaborn as sns\n",
    "import warnings\n",
    "import tqdm\n",
    "import pdb\n",
    "import time\n",
    "import pdb\n",
    "import timeit"
   ]
  },
  {
   "cell_type": "code",
   "execution_count": 59,
   "id": "0ce92f06-e193-4841-b37d-8dfac0700318",
   "metadata": {},
   "outputs": [],
   "source": [
    "# Functions from SVM.ipynb\n",
    "\n",
    "def get_toy_svm_dataset_linear_binary(num_samples=100, num_features=2, noise=0, w=None, b=None):\n",
    "    if noise != 0:\n",
    "        warnings.warn('noise not implemented. data will be linearly separable')\n",
    "    X = (np.random.rand(num_samples, num_features) - 0.5) * 3\n",
    "    if w is None:\n",
    "      w = np.random.rand(num_features) - 0.5\n",
    "    if b is None:\n",
    "      b = np.random.rand(1) - 0.5\n",
    "    y = ((X @ w) + b > 0).astype(int)\n",
    "    y[y==0] = -1\n",
    "    return X, y, w, b\n",
    "\n",
    "def get_decision_boundary_points_2D(X, w, b):\n",
    "    assert w.shape == (2,), \"must have two weights\"\n",
    "    assert b.shape == (1,), \"b must be scalar\"\n",
    "    assert X.shape[1] == 2, \"X must have two features\"\n",
    "\n",
    "    x = np.linspace(np.min(X[:, 0]), np.max(X[:, 0]), 100)\n",
    "    y = (- ((x * w[0]) + b)) / w[1]\n",
    "    return x, y\n",
    "\n",
    "def g(z):\n",
    "    y_hat = z.astype(int)\n",
    "    y_hat[y_hat==0] = -1\n",
    "    return y_hat\n",
    "\n",
    "def get_functional_margin(X, y, w, b):\n",
    "    # if y = 1, need X@w+b to be large positive to get large positive output\n",
    "    # opposite is true if y = -1\n",
    "    # thus, a large positive functional margin tells us a sample is far away from the hyperplane and classified correctly\n",
    "    # negative tells us that the classification is incorrect\n",
    "\n",
    "    # gamma_hat --> all functional margins \n",
    "    gamma_hat = (y * (X @ w + b))\n",
    "    return gamma_hat\n",
    "\n",
    "def get_functional_margin_wrt_S(X, y, w, b):\n",
    "    # S --> set of training examples\n",
    "    gamma_hat = get_functional_margin(X, y, w, b)\n",
    "    gamma_hat_wrt_S = np.min(gamma_hat) # the worst one\n",
    "    return gamma_hat_wrt_S\n",
    "\n",
    "def normalize_vector(v):\n",
    "    # could use np.linalg.norm but that would break the rules :)\n",
    "    norm = np.sqrt(np.sum(v**2))\n",
    "    return v / norm\n",
    "\n",
    "def get_geometric_margin(X, y, w, b):\n",
    "    w_norm = np.sqrt(np.sum(w**2))\n",
    "\n",
    "    # all geometric margins\n",
    "    gamma = y * ((X @ (w / w_norm)) + (b / w_norm))\n",
    "\n",
    "    return gamma\n",
    "\n",
    "def get_geometric_margin_wrt_S(X, y, w, b):\n",
    "    # S --> set of training examples\n",
    "    gamma = get_geometric_margin(X, y, w, b)\n",
    "    gamma_wrt_S = np.min(gamma) # the closest one; a support vector\n",
    "    return gamma_wrt_S\n",
    "\n",
    "def get_kernel(x1, x2, kernel_type = 'linear'):\n",
    "    # phi = feature mapping\n",
    "    if kernel_type == 'linear':\n",
    "        phi = lambda x: x\n",
    "        return np.dot(phi(x1), phi(x2))\n",
    "\n",
    "    if kernel_type == 'gaussian':\n",
    "        raise NotImplementedError()\n",
    "\n",
    "    raise ValueError(f'Kernel {kernel_type} not supported')\n",
    "\n",
    "def get_kernel_matrix(X, kernel_type = 'linear'):\n",
    "    # this could probably be vectorized\n",
    "    num_samples = X.shape[0]\n",
    "    kernel_matrix = np.zeros(shape=(num_samples, num_samples))\n",
    "    for i in range(num_samples):\n",
    "        x1 = X[i]\n",
    "        for j in range(num_samples):\n",
    "            x2 = X[j]\n",
    "            K_i_j = get_kernel(x1, x2, kernel_type)\n",
    "            kernel_matrix[i, j] = K_i_j\n",
    "    return kernel_matrix\n",
    "\n",
    "def get_initial_alpha(num_samples, y):\n",
    "    # \"alpha\" = vector filled with lagrange multipliers\n",
    "    # generate random alphas for negative samples\n",
    "    alpha = np.zeros_like(y, dtype=float)\n",
    "    num_negative = np.sum(y==-1)\n",
    "    alpha[y == -1] = np.random.rand(num_negative) * 0.1\n",
    "\n",
    "    # get dot product to compute scaling factor for positive samples\n",
    "    initial_dot = alpha @ y\n",
    "\n",
    "    # count positive samples\n",
    "    num_positive = np.sum(y == 1)\n",
    "\n",
    "    # initial random alphas for positive samples\n",
    "    random_alpha_for_positive_samples = np.random.rand(num_positive)\n",
    "\n",
    "    # normalize so they sum to 1\n",
    "    norm_alpha_for_positive_samples = random_alpha_for_positive_samples / np.sum(random_alpha_for_positive_samples)\n",
    "    assert np.isclose(np.sum(norm_alpha_for_positive_samples), 1), 'normalization of initial lagrange multipliers for positive samples failed: sum != 1'\n",
    "\n",
    "    # scale with initial dot computed before\n",
    "    scaled_alpha_for_positive_samples = -(norm_alpha_for_positive_samples * initial_dot)\n",
    "    assert np.isclose(-np.sum(scaled_alpha_for_positive_samples), initial_dot), 'scaling of initial lagrange multipliers for positive samples failed: -sum != initial dot'\n",
    "\n",
    "    # sub in alphas for positive samples\n",
    "    alpha[y==1] = scaled_alpha_for_positive_samples\n",
    "\n",
    "    # does this satisfy sum(alpha_i * y_i for all i) = 0 constraint?\n",
    "    assert np.isclose(alpha @ y, 0), 'failed to generate random lagrange multipliers: alpha @ y != 0 '\n",
    "\n",
    "    return alpha\n",
    "\n",
    "def alpha_to_w(alpha, X, y):\n",
    "    # express w in terms of lagrange mutlipliers (alphas), X, and y\n",
    "    w = np.sum((alpha * y).reshape(-1, 1) * X, axis=0)\n",
    "\n",
    "    # equivalent to: np.sum([alpha[i] * y[i] * X[i] for i in range(len(alpha))], axis=0)\n",
    "\n",
    "    assert w.shape[0] == X.shape[1], f'mismatch between number of weights produced {w.shape[0]} and number of features {X.shape[1]}'\n",
    "\n",
    "    return w\n",
    "\n",
    "# objective function: maximize\n",
    "def W_slow(alpha, K, y):\n",
    "    first_part = np.sum(alpha)\n",
    "\n",
    "    second_part = 0\n",
    "\n",
    "    for i in range(len(alpha)):\n",
    "        for j in range(len(alpha)):\n",
    "              second_part += y[i] * y[j] * alpha[i] * alpha[j] * K[i, j]\n",
    "\n",
    "    W_alpha = first_part - (0.5 * second_part)\n",
    "\n",
    "    return W_alpha\n",
    "\n",
    "def is_greater_or_close(a, b, rtol=1e-5, atol=1e-8):\n",
    "    return np.logical_or(a > b, np.isclose(a, b, rtol=rtol, atol=atol))\n",
    "\n",
    "def is_less_or_close(a, b, rtol=1e-5, atol=1e-8):\n",
    "    return np.logical_or(a < b, np.isclose(a, b, rtol=rtol, atol=atol))\n",
    "\n",
    "def check_KKT(X, y, alpha, c, w, b, tol=0.01):\n",
    "    # karush-kuhn-tucker conditions. tests for convergence\n",
    "    # 'tol' here is absolute tolerance. Could also use relative tolerance\n",
    "    # Ng : \"Here, tol is the convergence tolerance parameter, and is typically set to around 0.01 to 0.001\"\n",
    "    warnings.warn('this function has not been tested at all')\n",
    "\n",
    "    kkt_results = {}\n",
    "    gamma_hat = get_functional_margin(X, y, w, b) # use geometric margin? idk work this out\n",
    "\n",
    "    # αi = 0 ⇒ yi(xi @ w + b) >= 1\n",
    "    condition_1_bool = is_greater_or_close(gamma_hat[alpha == 0], 1, rtol=0, atol=tol)\n",
    "    condition_1_passed = np.all(condition_1_bool)\n",
    "    kkt_results['condition_1'] = condition_1_passed\n",
    "\n",
    "    # αi = C ⇒ yi(xi @ w + b) <= 1\n",
    "    condition_2_bool = is_less_or_close(gamma_hat[alpha == c], 1, rtol=0, atol=tol)\n",
    "    condition_2_passed = np.all(condition_2_bool)\n",
    "    kkt_results['condition_2'] = condition_2_passed\n",
    "\n",
    "    # 0 < αi < C ⇒ yi(xi @ w + b) = 1\n",
    "    condition_3_bool = np.isclose(gamma_hat[(alpha > 0) & (alpha < c)], rtol=0, atol=tol)\n",
    "    condition_3_passed = np.all(condition_3_bool)\n",
    "    kkt_results['condition_3'] = condition_3_passed\n",
    "\n",
    "    return kkt_results"
   ]
  },
  {
   "cell_type": "markdown",
   "id": "8d25e2dd-9459-4290-98e6-e9d4134e601e",
   "metadata": {},
   "source": [
    "# SMO (Raw)"
   ]
  },
  {
   "cell_type": "code",
   "execution_count": 60,
   "id": "eee6e0fd-54b3-4efa-baa0-9a97dfa36b5a",
   "metadata": {},
   "outputs": [],
   "source": [
    "# create binary dataset\n",
    "num_samples = 100\n",
    "num_features = 2\n",
    "noise = 0\n",
    "\n",
    "X, y, w_optimal, b_optimal = get_toy_svm_dataset_linear_binary(num_samples, num_features, noise)"
   ]
  },
  {
   "cell_type": "code",
   "execution_count": 61,
   "id": "5d4903b9-4df1-4ff4-9696-7bb65673aef0",
   "metadata": {},
   "outputs": [
    {
     "data": {
      "text/plain": [
       "<Axes: >"
      ]
     },
     "execution_count": 61,
     "metadata": {},
     "output_type": "execute_result"
    },
    {
     "data": {
      "image/png": "[encoded data removed]",
      "text/plain": [
       "<Figure size 640x480 with 1 Axes>"
      ]
     },
     "metadata": {},
     "output_type": "display_data"
    }
   ],
   "source": [
    "sns.scatterplot(x=X[:, 0], y=X[:, 1], hue=['negative' if val == -1 else 'positive' for val in y])"
   ]
  },
  {
   "cell_type": "code",
   "execution_count": 111,
   "id": "9b6b1dc9-fa4c-407b-ace9-0feca2d74737",
   "metadata": {},
   "outputs": [
    {
     "data": {
      "text/plain": [
       "np.float64(-6.938893903907228e-18)"
      ]
     },
     "execution_count": 111,
     "metadata": {},
     "output_type": "execute_result"
    }
   ],
   "source": [
    "alpha = get_initial_alpha(num_samples, y)\n",
    "\n",
    "# constrained to = 0\n",
    "alpha @ y"
   ]
  },
  {
   "cell_type": "code",
   "execution_count": 112,
   "id": "4a12ccd3-5cdf-4f92-b64f-f027de58dda3",
   "metadata": {},
   "outputs": [
    {
     "data": {
      "text/plain": [
       "dtype('float64')"
      ]
     },
     "execution_count": 112,
     "metadata": {},
     "output_type": "execute_result"
    }
   ],
   "source": [
    "alpha.dtype"
   ]
  }
 ],
 "metadata": {
  "kernelspec": {
   "display_name": "Python 3 (ipykernel)",
   "language": "python",
   "name": "python3"
  },
  "language_info": {
   "codemirror_mode": {
    "name": "ipython",
    "version": 3
   },
   "file_extension": ".py",
   "mimetype": "text/x-python",
   "name": "python",
   "nbconvert_exporter": "python",
   "pygments_lexer": "ipython3",
   "version": "3.12.4"
  }
 },
 "nbformat": 4,
 "nbformat_minor": 5
}
