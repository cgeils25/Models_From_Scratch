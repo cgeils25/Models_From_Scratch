{
 "cells": [
  {
   "cell_type": "markdown",
   "id": "89614bd6-b35b-4c01-8412-e9bb6e158ab4",
   "metadata": {},
   "source": [
    "For this notebook, I'll be predicting whether breast cancer is malignant or benign based on a series of features regarding the shape, size, density, etc. of the tumor.\n",
    "\n",
    "original data link: https://www.kaggle.com/datasets/uciml/breast-cancer-wisconsin-data "
   ]
  },
  {
   "cell_type": "code",
   "execution_count": 1,
   "id": "4bdc1107-0d71-4eac-87b6-75553b82be28",
   "metadata": {},
   "outputs": [],
   "source": [
    "import sys\n",
    "sys.path.append('../..')\n",
    "\n",
    "import numpy as np\n",
    "import pandas as pd\n",
    "import matplotlib.pyplot as plt\n",
    "import seaborn as sns\n",
    "\n",
    "from utils.data_utils import split_dataset\n",
    "from models import GaussianNaiveBayesClassifer"
   ]
  },
  {
   "cell_type": "code",
   "execution_count": 2,
   "id": "d1304cd7-9ec1-4c5b-93c4-b2e72b3a1f62",
   "metadata": {},
   "outputs": [],
   "source": [
    "# load data as pandas dataframe\n",
    "filename = 'datasets/breast_cancer_wisconsin_diagnosis.csv'\n",
    "df = pd.read_csv(filename, index_col='id')\n",
    "df.drop(labels='Unnamed: 32', axis=1, inplace=True) # remove dummy column"
   ]
  },
  {
   "cell_type": "code",
   "execution_count": 3,
   "id": "af818de0-a87d-4d2e-9445-2c6f5cc595e4",
   "metadata": {},
   "outputs": [
    {
     "data": {
      "text/html": [
       "<div>\n",
       "<style scoped>\n",
       "    .dataframe tbody tr th:only-of-type {\n",
       "        vertical-align: middle;\n",
       "    }\n",
       "\n",
       "    .dataframe tbody tr th {\n",
       "        vertical-align: top;\n",
       "    }\n",
       "\n",
       "    .dataframe thead th {\n",
       "        text-align: right;\n",
       "    }\n",
       "</style>\n",
       "<table border=\"1\" class=\"dataframe\">\n",
       "  <thead>\n",
       "    <tr style=\"text-align: right;\">\n",
       "      <th></th>\n",
       "      <th>diagnosis</th>\n",
       "      <th>radius_mean</th>\n",
       "      <th>texture_mean</th>\n",
       "      <th>perimeter_mean</th>\n",
       "      <th>area_mean</th>\n",
       "      <th>smoothness_mean</th>\n",
       "      <th>compactness_mean</th>\n",
       "      <th>concavity_mean</th>\n",
       "      <th>concave points_mean</th>\n",
       "      <th>symmetry_mean</th>\n",
       "      <th>...</th>\n",
       "      <th>radius_worst</th>\n",
       "      <th>texture_worst</th>\n",
       "      <th>perimeter_worst</th>\n",
       "      <th>area_worst</th>\n",
       "      <th>smoothness_worst</th>\n",
       "      <th>compactness_worst</th>\n",
       "      <th>concavity_worst</th>\n",
       "      <th>concave points_worst</th>\n",
       "      <th>symmetry_worst</th>\n",
       "      <th>fractal_dimension_worst</th>\n",
       "    </tr>\n",
       "    <tr>\n",
       "      <th>id</th>\n",
       "      <th></th>\n",
       "      <th></th>\n",
       "      <th></th>\n",
       "      <th></th>\n",
       "      <th></th>\n",
       "      <th></th>\n",
       "      <th></th>\n",
       "      <th></th>\n",
       "      <th></th>\n",
       "      <th></th>\n",
       "      <th></th>\n",
       "      <th></th>\n",
       "      <th></th>\n",
       "      <th></th>\n",
       "      <th></th>\n",
       "      <th></th>\n",
       "      <th></th>\n",
       "      <th></th>\n",
       "      <th></th>\n",
       "      <th></th>\n",
       "      <th></th>\n",
       "    </tr>\n",
       "  </thead>\n",
       "  <tbody>\n",
       "    <tr>\n",
       "      <th>842302</th>\n",
       "      <td>M</td>\n",
       "      <td>17.99</td>\n",
       "      <td>10.38</td>\n",
       "      <td>122.80</td>\n",
       "      <td>1001.0</td>\n",
       "      <td>0.11840</td>\n",
       "      <td>0.27760</td>\n",
       "      <td>0.3001</td>\n",
       "      <td>0.14710</td>\n",
       "      <td>0.2419</td>\n",
       "      <td>...</td>\n",
       "      <td>25.38</td>\n",
       "      <td>17.33</td>\n",
       "      <td>184.60</td>\n",
       "      <td>2019.0</td>\n",
       "      <td>0.1622</td>\n",
       "      <td>0.6656</td>\n",
       "      <td>0.7119</td>\n",
       "      <td>0.2654</td>\n",
       "      <td>0.4601</td>\n",
       "      <td>0.11890</td>\n",
       "    </tr>\n",
       "    <tr>\n",
       "      <th>842517</th>\n",
       "      <td>M</td>\n",
       "      <td>20.57</td>\n",
       "      <td>17.77</td>\n",
       "      <td>132.90</td>\n",
       "      <td>1326.0</td>\n",
       "      <td>0.08474</td>\n",
       "      <td>0.07864</td>\n",
       "      <td>0.0869</td>\n",
       "      <td>0.07017</td>\n",
       "      <td>0.1812</td>\n",
       "      <td>...</td>\n",
       "      <td>24.99</td>\n",
       "      <td>23.41</td>\n",
       "      <td>158.80</td>\n",
       "      <td>1956.0</td>\n",
       "      <td>0.1238</td>\n",
       "      <td>0.1866</td>\n",
       "      <td>0.2416</td>\n",
       "      <td>0.1860</td>\n",
       "      <td>0.2750</td>\n",
       "      <td>0.08902</td>\n",
       "    </tr>\n",
       "    <tr>\n",
       "      <th>84300903</th>\n",
       "      <td>M</td>\n",
       "      <td>19.69</td>\n",
       "      <td>21.25</td>\n",
       "      <td>130.00</td>\n",
       "      <td>1203.0</td>\n",
       "      <td>0.10960</td>\n",
       "      <td>0.15990</td>\n",
       "      <td>0.1974</td>\n",
       "      <td>0.12790</td>\n",
       "      <td>0.2069</td>\n",
       "      <td>...</td>\n",
       "      <td>23.57</td>\n",
       "      <td>25.53</td>\n",
       "      <td>152.50</td>\n",
       "      <td>1709.0</td>\n",
       "      <td>0.1444</td>\n",
       "      <td>0.4245</td>\n",
       "      <td>0.4504</td>\n",
       "      <td>0.2430</td>\n",
       "      <td>0.3613</td>\n",
       "      <td>0.08758</td>\n",
       "    </tr>\n",
       "    <tr>\n",
       "      <th>84348301</th>\n",
       "      <td>M</td>\n",
       "      <td>11.42</td>\n",
       "      <td>20.38</td>\n",
       "      <td>77.58</td>\n",
       "      <td>386.1</td>\n",
       "      <td>0.14250</td>\n",
       "      <td>0.28390</td>\n",
       "      <td>0.2414</td>\n",
       "      <td>0.10520</td>\n",
       "      <td>0.2597</td>\n",
       "      <td>...</td>\n",
       "      <td>14.91</td>\n",
       "      <td>26.50</td>\n",
       "      <td>98.87</td>\n",
       "      <td>567.7</td>\n",
       "      <td>0.2098</td>\n",
       "      <td>0.8663</td>\n",
       "      <td>0.6869</td>\n",
       "      <td>0.2575</td>\n",
       "      <td>0.6638</td>\n",
       "      <td>0.17300</td>\n",
       "    </tr>\n",
       "    <tr>\n",
       "      <th>84358402</th>\n",
       "      <td>M</td>\n",
       "      <td>20.29</td>\n",
       "      <td>14.34</td>\n",
       "      <td>135.10</td>\n",
       "      <td>1297.0</td>\n",
       "      <td>0.10030</td>\n",
       "      <td>0.13280</td>\n",
       "      <td>0.1980</td>\n",
       "      <td>0.10430</td>\n",
       "      <td>0.1809</td>\n",
       "      <td>...</td>\n",
       "      <td>22.54</td>\n",
       "      <td>16.67</td>\n",
       "      <td>152.20</td>\n",
       "      <td>1575.0</td>\n",
       "      <td>0.1374</td>\n",
       "      <td>0.2050</td>\n",
       "      <td>0.4000</td>\n",
       "      <td>0.1625</td>\n",
       "      <td>0.2364</td>\n",
       "      <td>0.07678</td>\n",
       "    </tr>\n",
       "  </tbody>\n",
       "</table>\n",
       "<p>5 rows × 31 columns</p>\n",
       "</div>"
      ],
      "text/plain": [
       "         diagnosis  radius_mean  texture_mean  perimeter_mean  area_mean  \\\n",
       "id                                                                         \n",
       "842302           M        17.99         10.38          122.80     1001.0   \n",
       "842517           M        20.57         17.77          132.90     1326.0   \n",
       "84300903         M        19.69         21.25          130.00     1203.0   \n",
       "84348301         M        11.42         20.38           77.58      386.1   \n",
       "84358402         M        20.29         14.34          135.10     1297.0   \n",
       "\n",
       "          smoothness_mean  compactness_mean  concavity_mean  \\\n",
       "id                                                            \n",
       "842302            0.11840           0.27760          0.3001   \n",
       "842517            0.08474           0.07864          0.0869   \n",
       "84300903          0.10960           0.15990          0.1974   \n",
       "84348301          0.14250           0.28390          0.2414   \n",
       "84358402          0.10030           0.13280          0.1980   \n",
       "\n",
       "          concave points_mean  symmetry_mean  ...  radius_worst  \\\n",
       "id                                            ...                 \n",
       "842302                0.14710         0.2419  ...         25.38   \n",
       "842517                0.07017         0.1812  ...         24.99   \n",
       "84300903              0.12790         0.2069  ...         23.57   \n",
       "84348301              0.10520         0.2597  ...         14.91   \n",
       "84358402              0.10430         0.1809  ...         22.54   \n",
       "\n",
       "          texture_worst  perimeter_worst  area_worst  smoothness_worst  \\\n",
       "id                                                                       \n",
       "842302            17.33           184.60      2019.0            0.1622   \n",
       "842517            23.41           158.80      1956.0            0.1238   \n",
       "84300903          25.53           152.50      1709.0            0.1444   \n",
       "84348301          26.50            98.87       567.7            0.2098   \n",
       "84358402          16.67           152.20      1575.0            0.1374   \n",
       "\n",
       "          compactness_worst  concavity_worst  concave points_worst  \\\n",
       "id                                                                   \n",
       "842302               0.6656           0.7119                0.2654   \n",
       "842517               0.1866           0.2416                0.1860   \n",
       "84300903             0.4245           0.4504                0.2430   \n",
       "84348301             0.8663           0.6869                0.2575   \n",
       "84358402             0.2050           0.4000                0.1625   \n",
       "\n",
       "          symmetry_worst  fractal_dimension_worst  \n",
       "id                                                 \n",
       "842302            0.4601                  0.11890  \n",
       "842517            0.2750                  0.08902  \n",
       "84300903          0.3613                  0.08758  \n",
       "84348301          0.6638                  0.17300  \n",
       "84358402          0.2364                  0.07678  \n",
       "\n",
       "[5 rows x 31 columns]"
      ]
     },
     "execution_count": 3,
     "metadata": {},
     "output_type": "execute_result"
    }
   ],
   "source": [
    "df.head()"
   ]
  },
  {
   "cell_type": "code",
   "execution_count": 4,
   "id": "06aeccf2-c311-45dd-9c6e-12bd2e86763e",
   "metadata": {},
   "outputs": [
    {
     "name": "stdout",
     "output_type": "stream",
     "text": [
      "<class 'pandas.core.frame.DataFrame'>\n",
      "Index: 569 entries, 842302 to 92751\n",
      "Data columns (total 31 columns):\n",
      " #   Column                   Non-Null Count  Dtype  \n",
      "---  ------                   --------------  -----  \n",
      " 0   diagnosis                569 non-null    object \n",
      " 1   radius_mean              569 non-null    float64\n",
      " 2   texture_mean             569 non-null    float64\n",
      " 3   perimeter_mean           569 non-null    float64\n",
      " 4   area_mean                569 non-null    float64\n",
      " 5   smoothness_mean          569 non-null    float64\n",
      " 6   compactness_mean         569 non-null    float64\n",
      " 7   concavity_mean           569 non-null    float64\n",
      " 8   concave points_mean      569 non-null    float64\n",
      " 9   symmetry_mean            569 non-null    float64\n",
      " 10  fractal_dimension_mean   569 non-null    float64\n",
      " 11  radius_se                569 non-null    float64\n",
      " 12  texture_se               569 non-null    float64\n",
      " 13  perimeter_se             569 non-null    float64\n",
      " 14  area_se                  569 non-null    float64\n",
      " 15  smoothness_se            569 non-null    float64\n",
      " 16  compactness_se           569 non-null    float64\n",
      " 17  concavity_se             569 non-null    float64\n",
      " 18  concave points_se        569 non-null    float64\n",
      " 19  symmetry_se              569 non-null    float64\n",
      " 20  fractal_dimension_se     569 non-null    float64\n",
      " 21  radius_worst             569 non-null    float64\n",
      " 22  texture_worst            569 non-null    float64\n",
      " 23  perimeter_worst          569 non-null    float64\n",
      " 24  area_worst               569 non-null    float64\n",
      " 25  smoothness_worst         569 non-null    float64\n",
      " 26  compactness_worst        569 non-null    float64\n",
      " 27  concavity_worst          569 non-null    float64\n",
      " 28  concave points_worst     569 non-null    float64\n",
      " 29  symmetry_worst           569 non-null    float64\n",
      " 30  fractal_dimension_worst  569 non-null    float64\n",
      "dtypes: float64(30), object(1)\n",
      "memory usage: 142.2+ KB\n"
     ]
    }
   ],
   "source": [
    "df.info()"
   ]
  },
  {
   "cell_type": "code",
   "execution_count": 5,
   "id": "9f6dd062-931b-40ea-aa29-30717fd79b38",
   "metadata": {},
   "outputs": [
    {
     "data": {
      "text/plain": [
       "(569, 30)"
      ]
     },
     "execution_count": 5,
     "metadata": {},
     "output_type": "execute_result"
    }
   ],
   "source": [
    "# obtain features\n",
    "X = df.drop('diagnosis', axis=1).values\n",
    "X.shape"
   ]
  },
  {
   "cell_type": "code",
   "execution_count": 6,
   "id": "e49c6e61-bd2d-4e23-8b4f-44ff67e7b5bd",
   "metadata": {},
   "outputs": [
    {
     "data": {
      "text/plain": [
       "{'M': 1, 'B': 0}"
      ]
     },
     "execution_count": 6,
     "metadata": {},
     "output_type": "execute_result"
    }
   ],
   "source": [
    "# map M and B characters to 1 and 0 so my model can use them\n",
    "diagnosis_to_number_map = {'M': 1, 'B': 0}\n",
    "diagnosis_to_number_map"
   ]
  },
  {
   "cell_type": "code",
   "execution_count": 7,
   "id": "c09d2328-e640-4c67-9232-197a907603b2",
   "metadata": {},
   "outputs": [
    {
     "data": {
      "text/plain": [
       "(569,)"
      ]
     },
     "execution_count": 7,
     "metadata": {},
     "output_type": "execute_result"
    }
   ],
   "source": [
    "y = np.array(df['diagnosis'].apply(lambda diagnosis_letter: diagnosis_to_number_map[diagnosis_letter]))\n",
    "y.shape"
   ]
  },
  {
   "cell_type": "code",
   "execution_count": 8,
   "id": "81622b8d-478b-47f2-810c-b64ec4a05aba",
   "metadata": {},
   "outputs": [
    {
     "data": {
      "text/plain": [
       "{1: 'M', 0: 'B'}"
      ]
     },
     "execution_count": 8,
     "metadata": {},
     "output_type": "execute_result"
    }
   ],
   "source": [
    "# invert mapping\n",
    "number_to_diagnosis_map = {v: k for k, v in diagnosis_to_number_map.items()}\n",
    "number_to_diagnosis_map"
   ]
  },
  {
   "cell_type": "code",
   "execution_count": 9,
   "id": "ae904a29-afe6-4fd7-b294-5fff884d2fa6",
   "metadata": {},
   "outputs": [],
   "source": [
    "# making sure I converted diagnosis to number correctly by reversing the process\n",
    "assert np.all([number_to_diagnosis_map[val] for val in y] == list(df.diagnosis))"
   ]
  },
  {
   "cell_type": "code",
   "execution_count": 10,
   "id": "38948a45-43de-43f1-801e-aed991b4068f",
   "metadata": {},
   "outputs": [
    {
     "data": {
      "text/plain": [
       "Text(0.5, 1.0, 'Pearson Correlation Coefficients for Breast Cancer Dataset')"
      ]
     },
     "execution_count": 10,
     "metadata": {},
     "output_type": "execute_result"
    },
    {
     "data": {
      "image/png": "[encoded data removed]",
      "text/plain": [
       "<Figure size 640x480 with 2 Axes>"
      ]
     },
     "metadata": {},
     "output_type": "display_data"
    }
   ],
   "source": [
    "# visual check for multicollinearity\n",
    "sns.heatmap(np.corrcoef(X.T), vmin=-1, vmax=1)\n",
    "plt.title('Pearson Correlation Coefficients for Breast Cancer Dataset')"
   ]
  },
  {
   "cell_type": "code",
   "execution_count": 11,
   "id": "465b535d-b39f-43e3-b2c1-51c96cc7f955",
   "metadata": {},
   "outputs": [],
   "source": [
    "# split dataset into train and test sets\n",
    "X_train, y_train, X_test, y_test = split_dataset(X, y, test_size=0.2, shuffle=True)"
   ]
  },
  {
   "cell_type": "code",
   "execution_count": 12,
   "id": "fbcc2a8d-9723-4e48-80d5-b0e3be40a0ac",
   "metadata": {},
   "outputs": [
    {
     "name": "stdout",
     "output_type": "stream",
     "text": [
      "Test accuracy: 0.9298245614035088\n",
      "Test precision: 0.8666666666666667\n",
      "Test recall: 0.9512195121951219\n",
      "Test f1_score: 0.9069767441860465\n"
     ]
    }
   ],
   "source": [
    "# fit model to training data, then evaluate on test data\n",
    "model = GaussianNaiveBayesClassifer()\n",
    "model.fit(X_train, y_train)\n",
    "\n",
    "accuracy = model.accuracy(X_test, y_test)\n",
    "precision = model.precision(X_test, y_test)\n",
    "recall = model.recall(X_test, y_test)\n",
    "f1_score = model.f1_score(X_test, y_test)\n",
    "\n",
    "print(f'''Test accuracy: {accuracy}\n",
    "Test precision: {precision}\n",
    "Test recall: {recall}\n",
    "Test f1_score: {f1_score}''')"
   ]
  },
  {
   "cell_type": "markdown",
   "id": "d3271c00-2ec9-45d8-9617-d0204a86ab6d",
   "metadata": {},
   "source": [
    "Overall, these numbers are great for a classification model.\n",
    "\n",
    "Accuracy is what you think it means :)\n",
    "\n",
    "Precision indicates that when the model predicts that a tumor is malignant, it is expected to be correct 90.4 % of the time\n",
    "\n",
    "Precision indicates that when a tumor is malignant, the model is expected to correctly predict that it is malignant 95 % of the time\n",
    "\n",
    "F1 is just the harmonic mean of precision and recall, so a value close to 1 is good."
   ]
  },
  {
   "cell_type": "markdown",
   "id": "41aa4862-2e52-4a91-a294-0c63a26d2171",
   "metadata": {},
   "source": [
    "# Principal Component Analysis (because why not if I've already built it)"
   ]
  },
  {
   "cell_type": "markdown",
   "id": "15ff6d1d-1ef0-4feb-8dcb-583876756bb6",
   "metadata": {},
   "source": [
    "Because there was some clear multicollinearity in our data, I'll try PCA to perform dimensionality reduction.\n",
    "\n",
    "I'm not sure how desirable this is here; since we're presumably building a model that would be used in a medical setting, I would think we'd want to have the original, interpretable features. Nevertheless, I'll try this out anyways. "
   ]
  },
  {
   "cell_type": "code",
   "execution_count": 13,
   "id": "2382a3d3-d0fc-4934-94d3-d4b3a87e05c9",
   "metadata": {},
   "outputs": [],
   "source": [
    "from models import PCA"
   ]
  },
  {
   "cell_type": "code",
   "execution_count": 14,
   "id": "8445a258-da72-4e25-b536-905961e19e7f",
   "metadata": {},
   "outputs": [],
   "source": [
    "pca = PCA(num_components=15)"
   ]
  },
  {
   "cell_type": "code",
   "execution_count": 15,
   "id": "1f29bcd4-2d8e-4241-bafd-17ec6ccdd064",
   "metadata": {},
   "outputs": [],
   "source": [
    "# fit pca to training data and then transform both train and test\n",
    "X_train_transformed = pca.fit_transform(X_train)\n",
    "\n",
    "X_test_transformed = pca.transform(X_test)"
   ]
  },
  {
   "cell_type": "code",
   "execution_count": 16,
   "id": "666f1a1d-76ef-4fa0-a752-736b895d633a",
   "metadata": {},
   "outputs": [
    {
     "name": "stdout",
     "output_type": "stream",
     "text": [
      "Test accuracy: 0.8508771929824561\n",
      "Test precision: 0.7727272727272727\n",
      "Test recall: 0.8292682926829268\n",
      "Test f1_score: 0.7999999999999999\n"
     ]
    }
   ],
   "source": [
    "model = GaussianNaiveBayesClassifer()\n",
    "model.fit(X_train_transformed, y_train)\n",
    "\n",
    "accuracy = model.accuracy(X_test_transformed, y_test)\n",
    "precision = model.precision(X_test_transformed, y_test)\n",
    "recall = model.recall(X_test_transformed, y_test)\n",
    "f1_score = model.f1_score(X_test_transformed, y_test)\n",
    "\n",
    "print(f'''Test accuracy: {accuracy}\n",
    "Test precision: {precision}\n",
    "Test recall: {recall}\n",
    "Test f1_score: {f1_score}''')"
   ]
  },
  {
   "cell_type": "markdown",
   "id": "6f171f94-5a0e-43a2-b768-4c0e41c324b4",
   "metadata": {},
   "source": [
    "Ok, similar performance with half the dataset size. Probably worth keeping the original features."
   ]
  }
 ],
 "metadata": {
  "kernelspec": {
   "display_name": "Python 3 (ipykernel)",
   "language": "python",
   "name": "python3"
  },
  "language_info": {
   "codemirror_mode": {
    "name": "ipython",
    "version": 3
   },
   "file_extension": ".py",
   "mimetype": "text/x-python",
   "name": "python",
   "nbconvert_exporter": "python",
   "pygments_lexer": "ipython3",
   "version": "3.12.5"
  }
 },
 "nbformat": 4,
 "nbformat_minor": 5
}
